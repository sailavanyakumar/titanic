{
 "cells": [
  {
   "cell_type": "code",
   "execution_count": 28,
   "metadata": {},
   "outputs": [],
   "source": [
    "import pandas as pd\n",
    "import numpy as np\n",
    "df=pd.read_csv(\"train.csv\")\n",
    "#dropping the columns which don't effect accuracy of nework\n",
    "#these colums are object type and occupying lot of space when we do OHE\n",
    "del df[\"Cabin\"]\n",
    "del df[\"Name\"]\n",
    "#df.info()\n",
    "#print(df[\"SibSp\"].unique())\n",
    "\n",
    "#Finding null values and replacing them with mode\n",
    "df[\"Age\"]=df[\"Age\"].fillna(df[\"Age\"].mode()[0])\n",
    "df[\"Embarked\"]=df[\"Embarked\"].fillna(df[\"Embarked\"].mode()[0])\n",
    "#print(df.isnull().sum()/len(df))\n",
    "\n"
   ]
  },
  {
   "cell_type": "code",
   "execution_count": 29,
   "metadata": {},
   "outputs": [],
   "source": [
    "from sklearn.preprocessing import LabelEncoder\n",
    "from sklearn.preprocessing import OneHotEncoder\n",
    "target=[\"Survived\"]\n",
    "#df.info()\n",
    "cat_col=[\"Ticket\",\"Embarked\"]\n",
    "df[\"Sex\"]=np.where(df[\"Sex\"]=='male',0,1)\n",
    "num_col=[\"Sex\",\"PassengerId\",\"Pclass\",\"Age\",\"SibSp\",\"Parch\",\"Fare\"]\n"
   ]
  },
  {
   "cell_type": "code",
   "execution_count": 30,
   "metadata": {},
   "outputs": [
    {
     "name": "stdout",
     "output_type": "stream",
     "text": [
      "<class 'pandas.core.frame.DataFrame'>\n",
      "RangeIndex: 891 entries, 0 to 890\n",
      "Columns: 691 entries, Sex to Embarked_S\n",
      "dtypes: float64(686), int32(1), int64(4)\n",
      "memory usage: 4.7 MB\n"
     ]
    },
    {
     "name": "stderr",
     "output_type": "stream",
     "text": [
      "C:\\Users\\HP\\Anaconda3\\lib\\site-packages\\sklearn\\preprocessing\\_encoders.py:371: FutureWarning: The handling of integer data will change in version 0.22. Currently, the categories are determined based on the range [0, max(values)], while in the future they will be determined based on the unique values.\n",
      "If you want the future behaviour and silence this warning, you can specify \"categories='auto'\".\n",
      "In case you used a LabelEncoder before this OneHotEncoder to convert the categories to integers, then you can now use the OneHotEncoder directly.\n",
      "  warnings.warn(msg, FutureWarning)\n",
      "C:\\Users\\HP\\Anaconda3\\lib\\site-packages\\sklearn\\preprocessing\\_encoders.py:371: FutureWarning: The handling of integer data will change in version 0.22. Currently, the categories are determined based on the range [0, max(values)], while in the future they will be determined based on the unique values.\n",
      "If you want the future behaviour and silence this warning, you can specify \"categories='auto'\".\n",
      "In case you used a LabelEncoder before this OneHotEncoder to convert the categories to integers, then you can now use the OneHotEncoder directly.\n",
      "  warnings.warn(msg, FutureWarning)\n"
     ]
    }
   ],
   "source": [
    "def create_ohe(df,col):\n",
    "    le=LabelEncoder()\n",
    "    a=le.fit_transform(df[col]).reshape(-1,1)\n",
    "    ohe=OneHotEncoder(sparse=False)\n",
    "    column_names=[col+\"_\"+str(i) for i in le.classes_]\n",
    "    return (pd.DataFrame(ohe.fit_transform(a),columns=column_names))\n",
    "temp=df[num_col]\n",
    "for column in cat_col:\n",
    "    temp_df=create_ohe(df,column)\n",
    "    temp=pd.concat([temp,temp_df],axis=1)\n",
    "    \n",
    "temp.info()    "
   ]
  },
  {
   "cell_type": "code",
   "execution_count": 31,
   "metadata": {},
   "outputs": [
    {
     "name": "stdout",
     "output_type": "stream",
     "text": [
      "<class 'pandas.core.frame.DataFrame'>\n",
      "RangeIndex: 891 entries, 0 to 890\n",
      "Columns: 691 entries, Sex to Embarked_S\n",
      "dtypes: float64(686), int32(1), int64(4)\n",
      "memory usage: 4.7 MB\n"
     ]
    }
   ],
   "source": [
    "temp.info()\n",
    "#all objects are converted into int,float"
   ]
  },
  {
   "cell_type": "code",
   "execution_count": 95,
   "metadata": {},
   "outputs": [
    {
     "name": "stdout",
     "output_type": "stream",
     "text": [
      "(311, 691)\n",
      "(134, 691)\n",
      "(446, 691)\n",
      "(311,)\n",
      "(446,)\n",
      "(134,)\n"
     ]
    },
    {
     "name": "stderr",
     "output_type": "stream",
     "text": [
      "C:\\Users\\HP\\Anaconda3\\lib\\site-packages\\sklearn\\preprocessing\\data.py:645: DataConversionWarning: Data with input dtype int32, int64, float64 were all converted to float64 by StandardScaler.\n",
      "  return self.partial_fit(X, y)\n",
      "C:\\Users\\HP\\Anaconda3\\lib\\site-packages\\ipykernel_launcher.py:11: DataConversionWarning: Data with input dtype int32, int64, float64 were all converted to float64 by StandardScaler.\n",
      "  # This is added back by InteractiveShellApp.init_path()\n",
      "C:\\Users\\HP\\Anaconda3\\lib\\site-packages\\sklearn\\preprocessing\\data.py:645: DataConversionWarning: Data with input dtype int32, int64, float64 were all converted to float64 by StandardScaler.\n",
      "  return self.partial_fit(X, y)\n",
      "C:\\Users\\HP\\Anaconda3\\lib\\site-packages\\ipykernel_launcher.py:13: DataConversionWarning: Data with input dtype int32, int64, float64 were all converted to float64 by StandardScaler.\n",
      "  del sys.path[0]\n",
      "C:\\Users\\HP\\Anaconda3\\lib\\site-packages\\sklearn\\preprocessing\\data.py:645: DataConversionWarning: Data with input dtype int32, int64, float64 were all converted to float64 by StandardScaler.\n",
      "  return self.partial_fit(X, y)\n",
      "C:\\Users\\HP\\Anaconda3\\lib\\site-packages\\ipykernel_launcher.py:15: DataConversionWarning: Data with input dtype int32, int64, float64 were all converted to float64 by StandardScaler.\n",
      "  from ipykernel import kernelapp as app\n"
     ]
    }
   ],
   "source": [
    "from keras.models import Sequential\n",
    "from keras.layers import Dense\n",
    "from sklearn.model_selection import train_test_split\n",
    "from keras.callbacks import History\n",
    "history=History()\n",
    "x_train,x_test,y_train,y_test=train_test_split(temp,df[\"Survived\"],random_state=200,test_size=0.5)\n",
    "x_train,x_val,y_train,y_val=train_test_split(x_train,y_train,random_state=200,test_size=0.3)\n",
    "from sklearn.preprocessing import StandardScaler\n",
    "scaler=StandardScaler()\n",
    "scaler.fit(x_train)\n",
    "x_t_s=scaler.transform(x_train)\n",
    "scaler.fit(x_val)\n",
    "x_v_s=scaler.transform(x_val)\n",
    "scaler.fit(x_test)\n",
    "x_te_s=scaler.transform(x_test)\n",
    "print(x_t_s.shape)\n",
    "print(x_v_s.shape)\n",
    "print(x_te_s.shape)\n",
    "print(y_train.shape)\n",
    "print(y_test.shape)\n",
    "print(y_val.shape)"
   ]
  },
  {
   "cell_type": "code",
   "execution_count": 96,
   "metadata": {},
   "outputs": [
    {
     "name": "stdout",
     "output_type": "stream",
     "text": [
      "Train on 311 samples, validate on 134 samples\n",
      "Epoch 1/8\n",
      "311/311 [==============================] - 3s 8ms/step - loss: 0.4430 - acc: 0.5949 - val_loss: 0.4464 - val_acc: 0.5970\n",
      "Epoch 2/8\n",
      "311/311 [==============================] - 0s 208us/step - loss: 0.3613 - acc: 0.6045 - val_loss: 0.4285 - val_acc: 0.6045\n",
      "Epoch 3/8\n",
      "311/311 [==============================] - 0s 194us/step - loss: 0.2972 - acc: 0.6045 - val_loss: 0.4456 - val_acc: 0.6045\n",
      "Epoch 4/8\n",
      "311/311 [==============================] - 0s 176us/step - loss: 0.2648 - acc: 0.6077 - val_loss: 0.4407 - val_acc: 0.6045\n",
      "Epoch 5/8\n",
      "311/311 [==============================] - 0s 187us/step - loss: 0.2461 - acc: 0.6109 - val_loss: 0.4380 - val_acc: 0.6045\n",
      "Epoch 6/8\n",
      "311/311 [==============================] - 0s 188us/step - loss: 0.2379 - acc: 0.6206 - val_loss: 0.4338 - val_acc: 0.5970\n",
      "Epoch 7/8\n",
      "311/311 [==============================] - 0s 183us/step - loss: 0.2325 - acc: 0.6495 - val_loss: 0.4359 - val_acc: 0.6045\n",
      "Epoch 8/8\n",
      "311/311 [==============================] - 0s 177us/step - loss: 0.2164 - acc: 0.7653 - val_loss: 0.4470 - val_acc: 0.5821\n"
     ]
    },
    {
     "data": {
      "text/plain": [
       "<keras.callbacks.History at 0x2898ded15f8>"
      ]
     },
     "execution_count": 96,
     "metadata": {},
     "output_type": "execute_result"
    }
   ],
   "source": [
    "model=Sequential()\n",
    "model.add(Dense(150,input_dim=691,activation=\"relu\"))\n",
    "model.add(Dense(150,activation=\"relu\"))\n",
    "model.add(Dense(150,activation=\"relu\"))\n",
    "model.add(Dense(2,activation=\"relu\"))\n",
    "model.compile(optimizer=\"adam\",loss=\"mean_absolute_error\",metrics=[\"accuracy\"])\n",
    "from keras.utils import np_utils\n",
    "y_train=np_utils.to_categorical(y_train,2)\n",
    "y_test=np_utils.to_categorical(y_test,2)\n",
    "y_val=np_utils.to_categorical(y_val,2)\n",
    "model.fit(x_t_s,y_train,validation_data=(x_v_s,y_val),epochs=8,batch_size=64,callbacks=[history])"
   ]
  },
  {
   "cell_type": "code",
   "execution_count": 97,
   "metadata": {},
   "outputs": [
    {
     "data": {
      "text/plain": [
       "<matplotlib.legend.Legend at 0x2898f897e80>"
      ]
     },
     "execution_count": 97,
     "metadata": {},
     "output_type": "execute_result"
    },
    {
     "data": {
      "image/png": "[encoded data removed]",
      "text/plain": [
       "<Figure size 432x288 with 1 Axes>"
      ]
     },
     "metadata": {
      "needs_background": "light"
     },
     "output_type": "display_data"
    }
   ],
   "source": [
    "%matplotlib inline\n",
    "import matplotlib.pyplot as plt\n",
    "from matplotlib import style\n",
    "#adding some styles to the graph\n",
    "plt.plot(history.history['loss'],'y--',label=\"Epochs\",linewidth=3)\n",
    "plt.plot(history.history['val_loss'],'r',label=\"loss\",linewidth=3)\n",
    "plt.legend()"
   ]
  },
  {
   "cell_type": "code",
   "execution_count": 73,
   "metadata": {},
   "outputs": [
    {
     "data": {
      "text/plain": [
       "array([[12.314688  ,  8.978937  ],\n",
       "       [11.722452  ,  3.701777  ],\n",
       "       [17.110605  ,  7.33062   ],\n",
       "       [15.639633  ,  6.6072435 ],\n",
       "       [10.720021  ,  4.772978  ],\n",
       "       [ 0.93619084,  0.9159306 ],\n",
       "       [ 1.228692  ,  0.33477595],\n",
       "       [ 1.8969123 ,  1.84283   ],\n",
       "       [11.806059  ,  4.8020105 ],\n",
       "       [13.931807  ,  6.0405574 ],\n",
       "       [ 3.459043  ,  2.3207054 ],\n",
       "       [ 7.1917696 ,  2.7141943 ],\n",
       "       [ 6.883413  ,  7.1798306 ],\n",
       "       [ 5.074001  ,  5.246782  ],\n",
       "       [17.090956  ,  6.9678316 ],\n",
       "       [ 7.2994447 ,  3.0475206 ],\n",
       "       [16.766077  ,  5.9254622 ],\n",
       "       [ 4.2962556 ,  4.4492216 ],\n",
       "       [16.63057   ,  7.032797  ],\n",
       "       [ 6.5197463 ,  5.8026805 ],\n",
       "       [ 8.530403  ,  4.686054  ],\n",
       "       [ 9.879131  ,  3.5052683 ],\n",
       "       [ 9.68852   ,  4.4810915 ],\n",
       "       [14.090661  ,  6.081676  ],\n",
       "       [ 6.611725  ,  1.3287183 ],\n",
       "       [ 4.353226  ,  0.35819608],\n",
       "       [ 8.8972435 ,  7.7735114 ],\n",
       "       [11.148637  ,  5.4381943 ],\n",
       "       [14.750632  ,  6.8704443 ],\n",
       "       [ 4.630781  ,  1.4206824 ],\n",
       "       [15.077526  ,  5.854912  ],\n",
       "       [ 5.560267  ,  7.3026648 ],\n",
       "       [ 8.891655  ,  4.113886  ],\n",
       "       [ 3.06219   ,  0.5129996 ],\n",
       "       [ 0.36660758,  1.1544479 ],\n",
       "       [ 6.4833946 ,  2.6639922 ],\n",
       "       [ 4.393883  ,  1.1942178 ],\n",
       "       [ 5.391737  ,  2.0839822 ],\n",
       "       [ 8.168522  ,  2.938229  ],\n",
       "       [ 7.2454987 , 23.650396  ],\n",
       "       [ 1.9888539 ,  0.        ],\n",
       "       [15.782711  ,  6.3483486 ],\n",
       "       [11.244862  ,  5.053882  ],\n",
       "       [ 5.8911943 ,  6.3834896 ],\n",
       "       [15.62087   ,  4.365648  ],\n",
       "       [ 6.0449257 ,  2.6711593 ],\n",
       "       [10.605244  ,  3.2501068 ],\n",
       "       [14.05547   ,  7.2332845 ],\n",
       "       [14.130762  ,  5.8551645 ],\n",
       "       [13.324202  ,  3.667056  ],\n",
       "       [13.875307  ,  8.969877  ],\n",
       "       [11.600835  ,  5.338813  ],\n",
       "       [ 0.        ,  5.71375   ],\n",
       "       [ 5.366695  ,  1.8981885 ],\n",
       "       [ 4.4978604 ,  5.298526  ],\n",
       "       [ 8.110769  ,  2.6460934 ],\n",
       "       [ 0.        , 12.30864   ],\n",
       "       [ 3.3035145 ,  2.7459972 ],\n",
       "       [ 5.9933414 ,  3.0444317 ],\n",
       "       [ 3.9735956 ,  2.7587988 ],\n",
       "       [17.67955   ,  8.178787  ],\n",
       "       [ 1.4505625 ,  1.6424918 ],\n",
       "       [11.415472  ,  4.704874  ],\n",
       "       [ 1.9434619 ,  0.58036286],\n",
       "       [12.605071  ,  4.2997866 ],\n",
       "       [10.4245825 ,  4.2144737 ],\n",
       "       [ 8.573582  ,  4.1266723 ],\n",
       "       [ 9.067873  , 22.829885  ],\n",
       "       [15.165851  ,  6.4155574 ],\n",
       "       [ 5.318282  ,  0.4214087 ],\n",
       "       [11.669637  ,  4.626441  ],\n",
       "       [10.907238  ,  4.2693253 ],\n",
       "       [ 7.4664636 ,  2.7877865 ],\n",
       "       [13.584058  ,  5.7314157 ],\n",
       "       [17.370886  ,  6.321775  ],\n",
       "       [10.077654  ,  3.770585  ],\n",
       "       [10.133471  ,  3.961021  ],\n",
       "       [18.643967  ,  7.5789824 ],\n",
       "       [16.47817   ,  7.293215  ],\n",
       "       [10.424332  ,  4.3649673 ],\n",
       "       [ 6.0274043 ,  1.7106837 ],\n",
       "       [ 1.6420101 ,  0.10832518],\n",
       "       [ 3.8863652 , 12.05032   ],\n",
       "       [18.14637   ,  8.113591  ],\n",
       "       [16.474314  ,  8.995045  ],\n",
       "       [15.957928  ,  7.001617  ],\n",
       "       [11.596912  ,  7.0816145 ],\n",
       "       [11.590249  ,  6.0498075 ],\n",
       "       [14.966431  ,  9.177696  ],\n",
       "       [14.12669   ,  6.216632  ],\n",
       "       [12.862494  ,  4.5637836 ],\n",
       "       [17.342289  ,  8.925146  ],\n",
       "       [10.119481  ,  6.771962  ],\n",
       "       [ 1.6343255 ,  0.42223832],\n",
       "       [16.035627  ,  7.849712  ],\n",
       "       [ 2.9706817 ,  0.9244184 ],\n",
       "       [12.879386  ,  5.466597  ],\n",
       "       [ 1.8707106 ,  1.0206195 ],\n",
       "       [14.456228  ,  6.0098257 ],\n",
       "       [ 3.4129577 ,  0.8887549 ],\n",
       "       [ 0.        ,  0.96517915],\n",
       "       [ 4.7109137 ,  3.333754  ],\n",
       "       [ 6.217537  ,  4.7794647 ],\n",
       "       [ 6.3945303 ,  4.8599977 ],\n",
       "       [12.36921   ,  5.0338287 ],\n",
       "       [14.699422  ,  6.58689   ],\n",
       "       [ 4.6990867 ,  1.7859243 ],\n",
       "       [ 3.5770547 ,  0.8134385 ],\n",
       "       [ 5.2850966 ,  3.20934   ],\n",
       "       [ 7.8927727 ,  2.5941339 ],\n",
       "       [13.081429  , 12.1306715 ],\n",
       "       [ 6.529509  ,  1.3958548 ],\n",
       "       [11.934647  ,  6.055553  ],\n",
       "       [16.303724  ,  9.199665  ],\n",
       "       [ 2.1099153 ,  0.12804711],\n",
       "       [10.373632  ,  5.8818793 ],\n",
       "       [ 0.732283  ,  1.0380772 ],\n",
       "       [17.476446  ,  9.181756  ],\n",
       "       [10.625441  ,  5.2577143 ],\n",
       "       [12.819059  ,  5.572888  ],\n",
       "       [ 8.092619  ,  3.6198611 ],\n",
       "       [11.4220295 ,  4.350835  ],\n",
       "       [13.11356   ,  5.8614826 ],\n",
       "       [ 5.826737  ,  1.5553297 ],\n",
       "       [15.565033  ,  6.974286  ],\n",
       "       [ 5.18389   ,  1.5643816 ],\n",
       "       [ 5.666436  ,  1.6853801 ],\n",
       "       [ 2.5197911 ,  0.07152033],\n",
       "       [ 7.2403436 ,  1.3875328 ],\n",
       "       [ 6.5035357 ,  1.5895942 ],\n",
       "       [13.32345   ,  8.277674  ],\n",
       "       [17.015787  ,  7.9480133 ],\n",
       "       [13.178134  ,  7.8700366 ],\n",
       "       [ 5.2163463 ,  1.2837135 ],\n",
       "       [ 8.422831  ,  3.1300795 ],\n",
       "       [12.47927   ,  4.569056  ],\n",
       "       [12.341681  ,  8.747351  ],\n",
       "       [14.037187  ,  6.777761  ],\n",
       "       [ 9.263801  ,  2.5599222 ],\n",
       "       [ 4.934621  ,  1.8070644 ],\n",
       "       [15.227899  ,  8.328452  ],\n",
       "       [ 8.636924  ,  2.609455  ],\n",
       "       [15.208789  ,  6.90666   ],\n",
       "       [ 1.062922  ,  0.        ],\n",
       "       [11.69341   ,  4.9914427 ],\n",
       "       [ 0.59911054,  0.7412613 ],\n",
       "       [12.894978  ,  6.1366854 ],\n",
       "       [ 0.42288813,  0.14537191],\n",
       "       [10.875296  ,  4.2071114 ],\n",
       "       [12.883106  ,  4.9620776 ],\n",
       "       [12.192673  ,  6.85377   ],\n",
       "       [10.368066  ,  4.7998257 ],\n",
       "       [ 5.2284184 ,  6.725702  ],\n",
       "       [16.794874  ,  7.3299284 ],\n",
       "       [ 9.240397  ,  4.695603  ],\n",
       "       [17.634916  ,  8.069073  ],\n",
       "       [ 0.        ,  2.1058087 ],\n",
       "       [10.469183  ,  3.6622934 ],\n",
       "       [ 3.512568  ,  1.0554625 ],\n",
       "       [ 6.1828856 ,  4.31278   ],\n",
       "       [11.027702  ,  4.6753197 ],\n",
       "       [ 8.363468  ,  2.9485059 ],\n",
       "       [ 9.320459  ,  4.142646  ],\n",
       "       [ 8.031649  ,  4.632617  ],\n",
       "       [ 7.7498565 ,  2.7172418 ],\n",
       "       [ 2.7620208 ,  1.8629038 ],\n",
       "       [10.07267   ,  7.709817  ],\n",
       "       [10.411879  ,  4.083561  ],\n",
       "       [11.064274  ,  4.3557568 ],\n",
       "       [ 6.409241  ,  2.1533687 ],\n",
       "       [ 8.430889  ,  1.7889739 ],\n",
       "       [14.233574  ,  4.3214808 ],\n",
       "       [15.038862  ,  5.7443004 ],\n",
       "       [12.295742  ,  5.804192  ],\n",
       "       [13.583393  ,  5.571414  ],\n",
       "       [ 8.099728  ,  7.3662295 ],\n",
       "       [ 7.656838  ,  4.508822  ],\n",
       "       [ 2.3971364 ,  0.        ],\n",
       "       [15.170785  ,  5.322298  ],\n",
       "       [ 8.894711  ,  3.2216973 ],\n",
       "       [14.862663  ,  6.415742  ],\n",
       "       [ 3.230869  ,  1.8456408 ],\n",
       "       [ 5.4860663 ,  5.0184517 ],\n",
       "       [ 6.3303275 ,  2.1973686 ],\n",
       "       [ 4.1989346 ,  1.4671351 ],\n",
       "       [ 8.143669  ,  3.0923223 ],\n",
       "       [14.122723  ,  4.4315786 ],\n",
       "       [ 8.4209585 ,  3.0479805 ],\n",
       "       [ 5.4492407 ,  1.7638787 ],\n",
       "       [ 8.781909  ,  6.2159038 ],\n",
       "       [ 2.7803025 ,  0.99679255],\n",
       "       [ 5.459516  ,  0.85851604],\n",
       "       [17.050516  ,  7.602626  ],\n",
       "       [ 4.761574  ,  1.6712219 ],\n",
       "       [ 8.855601  ,  3.2396536 ],\n",
       "       [16.73023   ,  6.803078  ],\n",
       "       [14.607294  ,  6.01112   ],\n",
       "       [11.414076  ,  5.4404297 ],\n",
       "       [ 3.6366203 ,  0.33063227],\n",
       "       [ 6.93909   ,  3.0492296 ],\n",
       "       [ 1.1048679 ,  1.4094993 ],\n",
       "       [16.89219   ,  6.8755975 ],\n",
       "       [ 0.        ,  3.0263186 ],\n",
       "       [ 9.301144  ,  3.1282182 ],\n",
       "       [ 9.963898  ,  6.204861  ],\n",
       "       [ 5.826963  ,  0.92852265],\n",
       "       [ 9.327975  ,  3.7247636 ],\n",
       "       [ 2.058299  ,  0.4696334 ],\n",
       "       [11.931217  ,  4.8451405 ],\n",
       "       [13.189205  ,  7.535865  ],\n",
       "       [16.113052  ,  6.8156233 ],\n",
       "       [16.124155  ,  7.674971  ],\n",
       "       [15.369768  ,  6.444413  ],\n",
       "       [ 3.1424844 ,  0.51226956],\n",
       "       [14.995224  ,  6.7584867 ],\n",
       "       [12.157719  ,  6.2526736 ],\n",
       "       [16.643816  ,  7.463334  ],\n",
       "       [ 9.706365  ,  3.7154222 ],\n",
       "       [ 7.1651564 ,  2.0728736 ],\n",
       "       [16.280697  ,  6.6500635 ],\n",
       "       [ 9.530973  ,  3.5316634 ],\n",
       "       [14.312246  ,  8.174549  ],\n",
       "       [ 6.2187486 ,  2.1717305 ],\n",
       "       [ 1.9453433 ,  0.        ],\n",
       "       [ 6.4527507 ,  0.94157034],\n",
       "       [ 5.3383026 ,  0.        ],\n",
       "       [ 7.1026044 ,  2.5162232 ],\n",
       "       [11.808771  ,  4.7114015 ],\n",
       "       [12.113353  ,  7.2015543 ],\n",
       "       [12.941872  ,  7.476865  ],\n",
       "       [ 7.87814   ,  2.4536285 ],\n",
       "       [11.043041  ,  3.9394684 ],\n",
       "       [ 0.8885146 ,  3.2070003 ],\n",
       "       [10.360287  ,  5.972371  ],\n",
       "       [11.797216  ,  2.8249416 ],\n",
       "       [12.342897  ,  5.0944166 ],\n",
       "       [11.27045   ,  4.553508  ],\n",
       "       [17.95025   ,  7.9921966 ],\n",
       "       [17.213404  ,  7.4327397 ],\n",
       "       [ 2.6509078 ,  1.0318288 ],\n",
       "       [ 6.455025  ,  2.576635  ],\n",
       "       [ 5.892768  ,  1.8920251 ],\n",
       "       [ 5.42543   ,  1.5853759 ],\n",
       "       [18.7216    ,  7.0182066 ],\n",
       "       [12.619181  ,  7.7739415 ],\n",
       "       [13.633136  ,  5.806463  ],\n",
       "       [16.25788   ,  9.539555  ],\n",
       "       [11.297276  ,  2.982802  ],\n",
       "       [11.969159  ,  6.8042927 ],\n",
       "       [ 0.4414075 ,  0.        ],\n",
       "       [13.985979  ,  5.819308  ],\n",
       "       [10.585289  ,  3.8134594 ],\n",
       "       [14.498183  ,  7.244952  ],\n",
       "       [ 4.778046  ,  5.7314305 ],\n",
       "       [ 4.1729617 ,  3.0206227 ],\n",
       "       [ 6.7794933 ,  1.7601382 ],\n",
       "       [ 3.386369  ,  1.0950855 ],\n",
       "       [12.525427  ,  5.6278257 ],\n",
       "       [13.960154  ,  5.7415156 ],\n",
       "       [14.0752945 ,  6.0397735 ],\n",
       "       [ 9.681804  ,  4.902551  ],\n",
       "       [ 2.3596673 ,  0.39414388],\n",
       "       [ 4.7115436 ,  4.4333363 ],\n",
       "       [ 0.6314997 ,  0.        ],\n",
       "       [12.480628  ,  5.700836  ],\n",
       "       [ 9.692353  , 13.373486  ],\n",
       "       [15.190458  , 11.074905  ],\n",
       "       [17.2562    ,  9.377947  ],\n",
       "       [ 1.9465085 ,  0.03648245],\n",
       "       [ 5.2506547 ,  3.9770904 ],\n",
       "       [ 2.0499048 ,  1.2798172 ],\n",
       "       [ 4.161281  ,  1.5575927 ],\n",
       "       [ 2.9128695 ,  2.9128077 ],\n",
       "       [ 8.449451  ,  3.4535065 ],\n",
       "       [ 7.503136  ,  3.4613547 ],\n",
       "       [19.280674  ,  5.690747  ],\n",
       "       [ 9.204059  ,  3.433209  ],\n",
       "       [ 4.779201  ,  1.1549193 ],\n",
       "       [ 1.2542868 ,  2.1874592 ],\n",
       "       [ 7.2640586 ,  6.2326913 ],\n",
       "       [10.953836  ,  3.2598724 ],\n",
       "       [11.932323  ,  5.6323357 ],\n",
       "       [ 8.726322  ,  3.0972517 ],\n",
       "       [17.434067  ,  8.655376  ],\n",
       "       [18.51296   ,  7.499609  ],\n",
       "       [ 5.791222  ,  9.122702  ],\n",
       "       [ 3.527077  ,  0.54127294],\n",
       "       [17.22049   ,  9.090244  ],\n",
       "       [17.339172  ,  7.930499  ],\n",
       "       [ 2.932797  ,  0.44912165],\n",
       "       [13.692084  ,  5.8550534 ],\n",
       "       [17.743687  ,  7.1408634 ],\n",
       "       [ 6.746774  ,  6.6251287 ],\n",
       "       [ 6.518092  ,  3.14571   ],\n",
       "       [ 5.7870216 ,  1.6272439 ],\n",
       "       [14.629613  ,  5.039012  ],\n",
       "       [15.545456  ,  5.508712  ],\n",
       "       [18.106955  ,  7.512167  ],\n",
       "       [16.079384  ,  8.437054  ],\n",
       "       [11.003605  ,  4.0684266 ],\n",
       "       [ 7.659046  ,  2.6865318 ],\n",
       "       [17.27548   ,  7.560398  ],\n",
       "       [ 3.6993854 ,  7.428231  ],\n",
       "       [ 3.8377264 ,  4.7165213 ],\n",
       "       [15.009162  ,  6.7788696 ],\n",
       "       [10.003989  ,  8.314364  ],\n",
       "       [11.163537  ,  4.852345  ],\n",
       "       [ 2.3918476 ,  0.20847553],\n",
       "       [12.5677    ,  5.107359  ],\n",
       "       [ 6.620531  ,  2.232257  ],\n",
       "       [15.270983  ,  9.686603  ],\n",
       "       [ 7.755992  ,  2.8324475 ],\n",
       "       [ 5.1494474 ,  1.7216437 ],\n",
       "       [ 8.438328  ,  3.387542  ],\n",
       "       [15.6329975 ,  6.979565  ],\n",
       "       [15.517855  , 10.08684   ],\n",
       "       [11.722855  ,  5.364037  ],\n",
       "       [17.071424  ,  6.940037  ],\n",
       "       [13.5366745 ,  5.6388726 ],\n",
       "       [11.72227   ,  3.8227744 ],\n",
       "       [ 4.7121615 ,  0.77145   ],\n",
       "       [13.868099  ,  9.669509  ],\n",
       "       [13.374739  ,  5.6900015 ],\n",
       "       [ 8.016825  ,  2.4708223 ],\n",
       "       [ 7.361483  ,  3.0081582 ],\n",
       "       [15.661265  ,  6.8477597 ],\n",
       "       [14.841339  ,  7.465611  ],\n",
       "       [ 8.390467  ,  3.9052901 ],\n",
       "       [10.407194  ,  4.426553  ],\n",
       "       [11.199127  ,  4.5057216 ],\n",
       "       [ 9.5256195 ,  3.5749264 ],\n",
       "       [15.744039  ,  7.3124247 ],\n",
       "       [ 6.4201703 ,  7.851968  ],\n",
       "       [ 7.9502378 ,  8.151615  ],\n",
       "       [ 8.976727  ,  3.4154599 ],\n",
       "       [11.11364   ,  5.1187816 ],\n",
       "       [ 3.2984538 ,  0.43873173],\n",
       "       [ 2.504084  ,  0.24141926],\n",
       "       [13.262012  ,  5.6872406 ],\n",
       "       [14.345794  ,  5.47891   ],\n",
       "       [ 1.0259737 ,  2.8900318 ],\n",
       "       [14.984879  ,  6.137866  ],\n",
       "       [11.609371  ,  4.7875104 ],\n",
       "       [15.055958  ,  6.3941793 ],\n",
       "       [ 8.620143  ,  3.3393    ],\n",
       "       [15.675114  ,  5.709323  ],\n",
       "       [13.182266  ,  5.3667164 ],\n",
       "       [ 6.655949  ,  1.8505899 ],\n",
       "       [ 8.703361  ,  4.7270637 ],\n",
       "       [15.566687  ,  9.797368  ],\n",
       "       [ 3.5361543 ,  2.5124304 ],\n",
       "       [12.224086  ,  5.0426655 ],\n",
       "       [12.874308  ,  5.223358  ],\n",
       "       [ 2.9391797 ,  0.6817586 ],\n",
       "       [ 7.398634  ,  2.8389359 ],\n",
       "       [16.015879  ,  6.804288  ],\n",
       "       [ 9.883686  ,  3.8108463 ],\n",
       "       [12.753518  ,  6.7153425 ],\n",
       "       [18.38079   ,  7.7660847 ],\n",
       "       [ 8.951264  ,  5.730467  ],\n",
       "       [ 1.9007971 ,  1.5236357 ],\n",
       "       [15.373662  ,  6.414344  ],\n",
       "       [ 1.6627793 ,  0.        ],\n",
       "       [ 3.2514164 ,  1.3878332 ],\n",
       "       [ 1.8023621 ,  0.36137694],\n",
       "       [ 0.2821675 ,  1.0470432 ],\n",
       "       [ 2.503346  ,  2.6805608 ],\n",
       "       [ 7.113417  ,  4.218385  ],\n",
       "       [ 3.5451593 , 11.251539  ],\n",
       "       [ 9.014776  ,  3.3784351 ],\n",
       "       [15.833039  ,  6.49552   ],\n",
       "       [ 3.4651568 ,  0.914113  ],\n",
       "       [ 5.2993546 ,  1.7219806 ],\n",
       "       [ 9.052072  ,  3.1568155 ],\n",
       "       [13.379728  ,  7.162299  ],\n",
       "       [ 7.1649723 ,  1.7525638 ],\n",
       "       [16.116098  ,  7.138588  ],\n",
       "       [15.651789  ,  7.6232734 ],\n",
       "       [12.387397  ,  4.1299047 ],\n",
       "       [ 9.928108  ,  4.1329384 ],\n",
       "       [ 6.710688  ,  1.9586262 ],\n",
       "       [16.690529  ,  6.8773913 ],\n",
       "       [ 3.8283143 ,  1.0747246 ],\n",
       "       [ 6.1963916 ,  1.6809846 ],\n",
       "       [10.065346  ,  3.7949872 ],\n",
       "       [13.449399  ,  5.833955  ],\n",
       "       [17.108248  ,  7.120752  ],\n",
       "       [10.211122  ,  4.487738  ],\n",
       "       [14.039459  ,  8.75178   ],\n",
       "       [ 3.4133155 ,  0.63817984],\n",
       "       [10.4633045 ,  4.7448225 ],\n",
       "       [15.20826   ,  5.3954554 ],\n",
       "       [ 7.099092  ,  2.3706937 ],\n",
       "       [14.430155  ,  9.39846   ],\n",
       "       [14.189148  ,  6.8061285 ],\n",
       "       [ 8.037971  ,  2.9474254 ],\n",
       "       [ 4.0448933 ,  0.72552985],\n",
       "       [ 7.9129257 ,  2.9226575 ],\n",
       "       [ 5.673576  ,  1.2611228 ],\n",
       "       [ 5.517535  ,  2.9358625 ],\n",
       "       [ 4.96114   ,  1.3389277 ],\n",
       "       [ 8.457046  ,  3.47932   ],\n",
       "       [13.686993  ,  6.076166  ],\n",
       "       [ 2.148702  ,  0.        ],\n",
       "       [11.602272  ,  6.7472744 ],\n",
       "       [ 5.1369867 ,  1.5428094 ],\n",
       "       [12.568128  ,  5.912387  ],\n",
       "       [10.030954  ,  4.587826  ],\n",
       "       [13.425794  ,  5.224772  ],\n",
       "       [ 9.901121  ,  6.1604004 ],\n",
       "       [ 4.405892  ,  1.3614655 ],\n",
       "       [15.188275  ,  6.6772404 ],\n",
       "       [ 4.7481256 ,  1.2693032 ],\n",
       "       [17.778067  ,  7.6233654 ],\n",
       "       [ 6.1954784 ,  1.8229314 ],\n",
       "       [ 7.713294  , 10.800045  ],\n",
       "       [14.867752  ,  8.635331  ],\n",
       "       [17.581057  ,  7.9625216 ],\n",
       "       [ 1.1362594 ,  1.1738931 ],\n",
       "       [12.160101  ,  7.501595  ],\n",
       "       [ 6.4609528 ,  1.8689741 ],\n",
       "       [11.57015   ,  6.88301   ],\n",
       "       [ 5.9635425 ,  1.7245184 ],\n",
       "       [ 8.073588  ,  1.2438122 ],\n",
       "       [ 5.882973  ,  4.0110316 ],\n",
       "       [ 9.468516  ,  4.0695386 ],\n",
       "       [16.4438    ,  7.401061  ],\n",
       "       [15.436728  ,  6.6928515 ],\n",
       "       [ 1.8128195 ,  0.333355  ],\n",
       "       [ 9.537269  ,  3.4679537 ],\n",
       "       [ 2.453417  ,  0.5077935 ],\n",
       "       [ 9.204393  ,  3.3389382 ],\n",
       "       [11.488302  ,  4.805708  ],\n",
       "       [ 5.171764  ,  1.4323825 ],\n",
       "       [ 9.898796  , 10.022399  ],\n",
       "       [ 1.4357617 ,  0.33297476],\n",
       "       [18.085382  ,  6.8262978 ],\n",
       "       [ 2.076706  ,  1.7800773 ],\n",
       "       [17.766558  ,  7.20022   ],\n",
       "       [17.180813  ,  8.612808  ],\n",
       "       [10.760672  , 13.317616  ],\n",
       "       [14.431283  ,  6.159433  ],\n",
       "       [ 3.1403656 ,  2.1818013 ],\n",
       "       [14.772886  ,  6.3740783 ],\n",
       "       [10.58958   ,  4.1414676 ],\n",
       "       [14.987473  ,  6.453326  ]], dtype=float32)"
      ]
     },
     "execution_count": 73,
     "metadata": {},
     "output_type": "execute_result"
    }
   ],
   "source": [
    "model.predict(x_test)"
   ]
  },
  {
   "cell_type": "code",
   "execution_count": 75,
   "metadata": {},
   "outputs": [
    {
     "name": "stdout",
     "output_type": "stream",
     "text": [
      "446/446 [==============================] - 0s 90us/step\n"
     ]
    },
    {
     "data": {
      "text/plain": [
       "[6.59778458120577, 0.6524663666438629]"
      ]
     },
     "execution_count": 75,
     "metadata": {},
     "output_type": "execute_result"
    }
   ],
   "source": [
    "model.evaluate(x_test,y_test)"
   ]
  },
  {
   "cell_type": "code",
   "execution_count": 76,
   "metadata": {},
   "outputs": [
    {
     "name": "stdout",
     "output_type": "stream",
     "text": [
      "134/134 [==============================] - 0s 110us/step\n"
     ]
    },
    {
     "data": {
      "text/plain": [
       "[6.45643453455683, 0.6194029850746269]"
      ]
     },
     "execution_count": 76,
     "metadata": {},
     "output_type": "execute_result"
    }
   ],
   "source": [
    "model.evaluate(x_val,y_val)"
   ]
  },
  {
   "cell_type": "code",
   "execution_count": 77,
   "metadata": {},
   "outputs": [
    {
     "name": "stdout",
     "output_type": "stream",
     "text": [
      "311/311 [==============================] - 0s 116us/step\n"
     ]
    },
    {
     "data": {
      "text/plain": [
       "[0.07143858366217644, 0.9871382636655949]"
      ]
     },
     "execution_count": 77,
     "metadata": {},
     "output_type": "execute_result"
    }
   ],
   "source": [
    "model.evaluate(x_t_s,y_train)"
   ]
  },
  {
   "cell_type": "code",
   "execution_count": 78,
   "metadata": {},
   "outputs": [
    {
     "name": "stdout",
     "output_type": "stream",
     "text": [
      "134/134 [==============================] - 0s 123us/step\n"
     ]
    },
    {
     "data": {
      "text/plain": [
       "[0.39575182724354874, 0.7164179095581397]"
      ]
     },
     "execution_count": 78,
     "metadata": {},
     "output_type": "execute_result"
    }
   ],
   "source": [
    "model.evaluate(x_v_s,y_val)"
   ]
  },
  {
   "cell_type": "code",
   "execution_count": null,
   "metadata": {},
   "outputs": [],
   "source": []
  }
 ],
 "metadata": {
  "kernelspec": {
   "display_name": "Python 3",
   "language": "python",
   "name": "python3"
  },
  "language_info": {
   "codemirror_mode": {
    "name": "ipython",
    "version": 3
   },
   "file_extension": ".py",
   "mimetype": "text/x-python",
   "name": "python",
   "nbconvert_exporter": "python",
   "pygments_lexer": "ipython3",
   "version": "3.7.3"
  }
 },
 "nbformat": 4,
 "nbformat_minor": 2
}
